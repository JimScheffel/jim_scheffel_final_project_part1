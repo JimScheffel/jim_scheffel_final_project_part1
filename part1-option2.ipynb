{
 "cells": [
  {
   "cell_type": "markdown",
   "metadata": {},
   "source": [
    "# Final Project - Part 1"
   ]
  },
  {
   "cell_type": "markdown",
   "metadata": {},
   "source": [
    "## Problem Statement:"
   ]
  },
  {
   "cell_type": "markdown",
   "metadata": {},
   "source": [
    "Many people move to our nation's capitol each year seeking opportunities with the government or high paying jobs in the private sector.  This can lead to a significant wage disparity between federal and private sector workers.  The median household income as reported by the US Census Bureau for 2017 in the District was USD82,372.  The increased desirability of DC proper coupled with limited room for expansion has driven the cost of living quite high primarily due to the cost of housing.  Rent Jungle reported the average rental cost in Washinton DC was USD2360 per month as of April 2019.  According to Black Knight, the average cost of a condo in Washington DC last year was USD451,100 whereas the average cost of a single family home was USD679,000.  When compared to 2009, these figures were USD357,000 and USD399,000 respectively.  Due to factors like the announcement of Amazon's HQ2, housing prices are expected to continue to soar even higher over the next decade in response to the increased demand.  With interest rates remaining low and mortgage products with as little as 3% down, a condo can be a solid investment at a better price point compared to a single family home.\n",
    "\n",
    "The cost of housing is driven by a number of factors including the number of rooms, bedrooms, bathrooms, square footage and also the year it was built and if the property has been remodeled.\n",
    "\n",
    "The goal of this project is to predict the price a condominium in Washington DC that could help a potential buyer understand if it's a good time to buy and if they are getting a good deal.\n",
    "\n",
    "The measure of success would be to predict the cost of a condominium with a reasonable degree of accuarcy based on the criteria provided.\n",
    "\n",
    "The risks are that this dataset is only looking at condos in Washington DC proper.  Also because the housing market is so competitve and prices can sometimes be inflated due to bidding wars, the prices listed may not always be indicative of actual market value.  The DC market also has a significant number of co-ops that are listed in the condo market which could skew the data because the cost is generally lower since the buyer is buying shares in building instead of the physical property."
   ]
  },
  {
   "cell_type": "code",
   "execution_count": 1,
   "metadata": {},
   "outputs": [],
   "source": [
    "import pandas as pd"
   ]
  },
  {
   "cell_type": "code",
   "execution_count": 2,
   "metadata": {},
   "outputs": [],
   "source": [
    "condos = pd.read_csv('../data/raw_condominium_data.csv')"
   ]
  },
  {
   "cell_type": "code",
   "execution_count": 4,
   "metadata": {},
   "outputs": [
    {
     "data": {
      "text/html": [
       "<div>\n",
       "<style scoped>\n",
       "    .dataframe tbody tr th:only-of-type {\n",
       "        vertical-align: middle;\n",
       "    }\n",
       "\n",
       "    .dataframe tbody tr th {\n",
       "        vertical-align: top;\n",
       "    }\n",
       "\n",
       "    .dataframe thead th {\n",
       "        text-align: right;\n",
       "    }\n",
       "</style>\n",
       "<table border=\"1\" class=\"dataframe\">\n",
       "  <thead>\n",
       "    <tr style=\"text-align: right;\">\n",
       "      <th></th>\n",
       "      <th>OBJECTID</th>\n",
       "      <th>SSL</th>\n",
       "      <th>BLDG_NUM</th>\n",
       "      <th>CMPLX_NUM</th>\n",
       "      <th>AYB</th>\n",
       "      <th>YR_RMDL</th>\n",
       "      <th>EYB</th>\n",
       "      <th>ROOMS</th>\n",
       "      <th>BEDRM</th>\n",
       "      <th>BATHRM</th>\n",
       "      <th>...</th>\n",
       "      <th>AC</th>\n",
       "      <th>FIREPLACES</th>\n",
       "      <th>SALEDATE</th>\n",
       "      <th>PRICE</th>\n",
       "      <th>QUALIFIED</th>\n",
       "      <th>SALE_NUM</th>\n",
       "      <th>LIVING_GBA</th>\n",
       "      <th>USECODE</th>\n",
       "      <th>LANDAREA</th>\n",
       "      <th>GIS_LAST_MOD_DTTM</th>\n",
       "    </tr>\n",
       "  </thead>\n",
       "  <tbody>\n",
       "    <tr>\n",
       "      <th>0</th>\n",
       "      <td>1001</td>\n",
       "      <td>3037    2003</td>\n",
       "      <td>1</td>\n",
       "      <td>5329</td>\n",
       "      <td>1911</td>\n",
       "      <td>2016.0</td>\n",
       "      <td>1919</td>\n",
       "      <td>4.0</td>\n",
       "      <td>2.0</td>\n",
       "      <td>2.0</td>\n",
       "      <td>...</td>\n",
       "      <td>Y</td>\n",
       "      <td>0.0</td>\n",
       "      <td>2016-12-20T00:00:00.000Z</td>\n",
       "      <td>599900.0</td>\n",
       "      <td>Q</td>\n",
       "      <td>2</td>\n",
       "      <td>1084</td>\n",
       "      <td>16</td>\n",
       "      <td>716</td>\n",
       "      <td>2018-07-22T18:01:38.000Z</td>\n",
       "    </tr>\n",
       "    <tr>\n",
       "      <th>1</th>\n",
       "      <td>1002</td>\n",
       "      <td>3037    2004</td>\n",
       "      <td>1</td>\n",
       "      <td>5329</td>\n",
       "      <td>1911</td>\n",
       "      <td>2016.0</td>\n",
       "      <td>1919</td>\n",
       "      <td>4.0</td>\n",
       "      <td>2.0</td>\n",
       "      <td>2.0</td>\n",
       "      <td>...</td>\n",
       "      <td>Y</td>\n",
       "      <td>0.0</td>\n",
       "      <td>2016-12-13T00:00:00.000Z</td>\n",
       "      <td>0.0</td>\n",
       "      <td>U</td>\n",
       "      <td>3</td>\n",
       "      <td>1237</td>\n",
       "      <td>16</td>\n",
       "      <td>827</td>\n",
       "      <td>2018-07-22T18:01:38.000Z</td>\n",
       "    </tr>\n",
       "    <tr>\n",
       "      <th>2</th>\n",
       "      <td>1003</td>\n",
       "      <td>3037    2005</td>\n",
       "      <td>1</td>\n",
       "      <td>5329</td>\n",
       "      <td>1911</td>\n",
       "      <td>2016.0</td>\n",
       "      <td>1919</td>\n",
       "      <td>4.0</td>\n",
       "      <td>2.0</td>\n",
       "      <td>2.0</td>\n",
       "      <td>...</td>\n",
       "      <td>Y</td>\n",
       "      <td>0.0</td>\n",
       "      <td>2017-02-22T00:00:00.000Z</td>\n",
       "      <td>677900.0</td>\n",
       "      <td>U</td>\n",
       "      <td>2</td>\n",
       "      <td>1267</td>\n",
       "      <td>16</td>\n",
       "      <td>844</td>\n",
       "      <td>2018-07-22T18:01:38.000Z</td>\n",
       "    </tr>\n",
       "    <tr>\n",
       "      <th>3</th>\n",
       "      <td>1004</td>\n",
       "      <td>3037    2006</td>\n",
       "      <td>1</td>\n",
       "      <td>5329</td>\n",
       "      <td>1911</td>\n",
       "      <td>2016.0</td>\n",
       "      <td>1919</td>\n",
       "      <td>4.0</td>\n",
       "      <td>2.0</td>\n",
       "      <td>2.0</td>\n",
       "      <td>...</td>\n",
       "      <td>Y</td>\n",
       "      <td>0.0</td>\n",
       "      <td>2016-12-22T00:00:00.000Z</td>\n",
       "      <td>659900.0</td>\n",
       "      <td>U</td>\n",
       "      <td>2</td>\n",
       "      <td>1151</td>\n",
       "      <td>16</td>\n",
       "      <td>763</td>\n",
       "      <td>2018-07-22T18:01:38.000Z</td>\n",
       "    </tr>\n",
       "    <tr>\n",
       "      <th>4</th>\n",
       "      <td>1005</td>\n",
       "      <td>3037    2007</td>\n",
       "      <td>1</td>\n",
       "      <td>5329</td>\n",
       "      <td>1911</td>\n",
       "      <td>2016.0</td>\n",
       "      <td>1919</td>\n",
       "      <td>4.0</td>\n",
       "      <td>2.0</td>\n",
       "      <td>2.0</td>\n",
       "      <td>...</td>\n",
       "      <td>Y</td>\n",
       "      <td>0.0</td>\n",
       "      <td>2016-12-19T00:00:00.000Z</td>\n",
       "      <td>645000.0</td>\n",
       "      <td>U</td>\n",
       "      <td>2</td>\n",
       "      <td>1080</td>\n",
       "      <td>16</td>\n",
       "      <td>716</td>\n",
       "      <td>2018-07-22T18:01:38.000Z</td>\n",
       "    </tr>\n",
       "  </tbody>\n",
       "</table>\n",
       "<p>5 rows × 23 columns</p>\n",
       "</div>"
      ],
      "text/plain": [
       "   OBJECTID           SSL  BLDG_NUM  CMPLX_NUM   AYB  YR_RMDL   EYB  ROOMS  \\\n",
       "0      1001  3037    2003         1       5329  1911   2016.0  1919    4.0   \n",
       "1      1002  3037    2004         1       5329  1911   2016.0  1919    4.0   \n",
       "2      1003  3037    2005         1       5329  1911   2016.0  1919    4.0   \n",
       "3      1004  3037    2006         1       5329  1911   2016.0  1919    4.0   \n",
       "4      1005  3037    2007         1       5329  1911   2016.0  1919    4.0   \n",
       "\n",
       "   BEDRM  BATHRM  ...  AC  FIREPLACES                  SALEDATE     PRICE  \\\n",
       "0    2.0     2.0  ...   Y         0.0  2016-12-20T00:00:00.000Z  599900.0   \n",
       "1    2.0     2.0  ...   Y         0.0  2016-12-13T00:00:00.000Z       0.0   \n",
       "2    2.0     2.0  ...   Y         0.0  2017-02-22T00:00:00.000Z  677900.0   \n",
       "3    2.0     2.0  ...   Y         0.0  2016-12-22T00:00:00.000Z  659900.0   \n",
       "4    2.0     2.0  ...   Y         0.0  2016-12-19T00:00:00.000Z  645000.0   \n",
       "\n",
       "   QUALIFIED SALE_NUM  LIVING_GBA USECODE  LANDAREA         GIS_LAST_MOD_DTTM  \n",
       "0          Q        2        1084      16       716  2018-07-22T18:01:38.000Z  \n",
       "1          U        3        1237      16       827  2018-07-22T18:01:38.000Z  \n",
       "2          U        2        1267      16       844  2018-07-22T18:01:38.000Z  \n",
       "3          U        2        1151      16       763  2018-07-22T18:01:38.000Z  \n",
       "4          U        2        1080      16       716  2018-07-22T18:01:38.000Z  \n",
       "\n",
       "[5 rows x 23 columns]"
      ]
     },
     "execution_count": 4,
     "metadata": {},
     "output_type": "execute_result"
    }
   ],
   "source": [
    "condos.head()"
   ]
  },
  {
   "cell_type": "code",
   "execution_count": 3,
   "metadata": {},
   "outputs": [
    {
     "data": {
      "text/plain": [
       "(53611, 23)"
      ]
     },
     "execution_count": 3,
     "metadata": {},
     "output_type": "execute_result"
    }
   ],
   "source": [
    "condos.shape"
   ]
  },
  {
   "cell_type": "code",
   "execution_count": 6,
   "metadata": {},
   "outputs": [
    {
     "name": "stdout",
     "output_type": "stream",
     "text": [
      "<class 'pandas.core.frame.DataFrame'>\n",
      "RangeIndex: 53611 entries, 0 to 53610\n",
      "Data columns (total 23 columns):\n",
      "OBJECTID             53611 non-null int64\n",
      "SSL                  53611 non-null object\n",
      "BLDG_NUM             53611 non-null int64\n",
      "CMPLX_NUM            53611 non-null int64\n",
      "AYB                  53611 non-null int64\n",
      "YR_RMDL              32125 non-null float64\n",
      "EYB                  53611 non-null int64\n",
      "ROOMS                52937 non-null float64\n",
      "BEDRM                52951 non-null float64\n",
      "BATHRM               52951 non-null float64\n",
      "HF_BATHRM            52712 non-null float64\n",
      "HEAT                 52950 non-null float64\n",
      "HEAT_D               52950 non-null object\n",
      "AC                   52951 non-null object\n",
      "FIREPLACES           52790 non-null float64\n",
      "SALEDATE             53611 non-null object\n",
      "PRICE                49701 non-null float64\n",
      "QUALIFIED            53610 non-null object\n",
      "SALE_NUM             53611 non-null int64\n",
      "LIVING_GBA           53611 non-null int64\n",
      "USECODE              53611 non-null int64\n",
      "LANDAREA             53611 non-null int64\n",
      "GIS_LAST_MOD_DTTM    53611 non-null object\n",
      "dtypes: float64(8), int64(9), object(6)\n",
      "memory usage: 9.4+ MB\n"
     ]
    }
   ],
   "source": [
    "condos.info()"
   ]
  },
  {
   "cell_type": "code",
   "execution_count": 7,
   "metadata": {},
   "outputs": [
    {
     "data": {
      "text/plain": [
       "OBJECTID                 0\n",
       "SSL                      0\n",
       "BLDG_NUM                 0\n",
       "CMPLX_NUM                0\n",
       "AYB                      0\n",
       "YR_RMDL              21486\n",
       "EYB                      0\n",
       "ROOMS                  674\n",
       "BEDRM                  660\n",
       "BATHRM                 660\n",
       "HF_BATHRM              899\n",
       "HEAT                   661\n",
       "HEAT_D                 661\n",
       "AC                     660\n",
       "FIREPLACES             821\n",
       "SALEDATE                 0\n",
       "PRICE                 3910\n",
       "QUALIFIED                1\n",
       "SALE_NUM                 0\n",
       "LIVING_GBA               0\n",
       "USECODE                  0\n",
       "LANDAREA                 0\n",
       "GIS_LAST_MOD_DTTM        0\n",
       "dtype: int64"
      ]
     },
     "execution_count": 7,
     "metadata": {},
     "output_type": "execute_result"
    }
   ],
   "source": [
    "condos.isnull().sum()"
   ]
  },
  {
   "cell_type": "code",
   "execution_count": null,
   "metadata": {},
   "outputs": [],
   "source": []
  }
 ],
 "metadata": {
  "kernelspec": {
   "display_name": "Python 3",
   "language": "python",
   "name": "python3"
  },
  "language_info": {
   "codemirror_mode": {
    "name": "ipython",
    "version": 3
   },
   "file_extension": ".py",
   "mimetype": "text/x-python",
   "name": "python",
   "nbconvert_exporter": "python",
   "pygments_lexer": "ipython3",
   "version": "3.7.3"
  }
 },
 "nbformat": 4,
 "nbformat_minor": 2
}

{
 "cells": [
  {
   "cell_type": "markdown",
   "metadata": {},
   "source": [
    "# Final Project"
   ]
  },
  {
   "cell_type": "markdown",
   "metadata": {},
   "source": [
    "## Predicting Residential Housing Prices in Washington DC"
   ]
  },
  {
   "cell_type": "markdown",
   "metadata": {},
   "source": [
    "### Jim Scheffel"
   ]
  },
  {
   "cell_type": "markdown",
   "metadata": {},
   "source": [
    "#### Problem Statement"
   ]
  },
  {
   "cell_type": "markdown",
   "metadata": {},
   "source": [
    "The population in Washington DC is rapidly growing.  The increased desirability of DC proper has driven the cost of living quite high primarily due to the cost of housing which has nearly doubled in some areas in the last 10-15 years.  Rent Jungle reported the average rental cost in Washinton DC was 2,360.00 per month as of April 2019.  According to Black Knight, the median cost of a condo in Washington DC last year was 451,100.00 whereas the median cost of a single family home was 679,000.00.  When compared to 2009, these figures were 357,000.00 and 399,000.00 respectively.  The median household income as reported by the US Census Bureau for 2017 in the District was 82,372.00 which isn't enough to put home ownership in reach for many residents.  However, the cost of a house dropped by 1% last year and is expected to drop another 2% this year.  With interest rates remaining low and mortgage products with as little as 3% down, it might be good time to start watching housing prices in DC for a potential investment.\n",
    "\n",
    "The cost of housing is driven by a number of factors including the location, number of rooms, bedrooms, bathrooms, square footage, the year it was built and if the property has been remodeled.\n",
    "\n",
    "The goal of this project is to predict the price a home (detached or townhome/rowhouse) in Washington DC that could help a potential buyer understand if it's a good time to buy and if they are getting a good deal.\n",
    "\n",
    "The measure of success would be to predict the cost of a house with a reasonable degree of accuarcy based on the criteria provided."
   ]
  },
  {
   "cell_type": "markdown",
   "metadata": {},
   "source": [
    "#### Data"
   ]
  },
  {
   "cell_type": "markdown",
   "metadata": {},
   "source": [
    "I obtained this data set from Kaggle, but the original data source was Open Data DC.  The data contains both residential and condominium home types.  I decided to use only the residential data as it was a richer dataset and my intial exploration of the condo data did not yield very good results.  The orginal dataset has qualified and unqualified sale prices for houses starting in 1949 until 2018.  I decided to use the sales starting in 2002. This data is only looking at houses in Washington DC proper.  I also found that the average price in this data was higher than the median I turned up in my research."
   ]
  },
  {
   "cell_type": "markdown",
   "metadata": {},
   "source": [
    "#### Target Variable"
   ]
  },
  {
   "cell_type": "markdown",
   "metadata": {},
   "source": [
    "I will be using Price as my taget variable.  The prices in the original dataset ranged from 4,950 to 22,000,000.  I will be scrubbing sales under 50,000 as they are unrealistic in the market for the timeframe chosen.  Also, parking spaces are sold as real estate in DC and can sell more than the cost of high end luxury car."
   ]
  },
  {
   "cell_type": "markdown",
   "metadata": {},
   "source": [
    "#### Feature Variables"
   ]
  },
  {
   "cell_type": "markdown",
   "metadata": {},
   "source": [
    "I will be using no of bathrooms, no of half bathrooms, no of units, no of rooms, no of bedrooms, year built, year remodeled, year improved, no of stories, sale date, square footage, type of structure, overall grade, overall condition, no of fireplaces, land area, neighborhood and quadrant as my feature variables.  I also chose to remove 0 values as for feature columns as they were only a small fraction of the data. I subsitituted year built for year remodeled where it was missing as this was determined to be an important feature in the data exploration."
   ]
  },
  {
   "cell_type": "markdown",
   "metadata": {},
   "source": [
    "#### Models"
   ]
  },
  {
   "cell_type": "markdown",
   "metadata": {},
   "source": [
    "I am working with regression models as I am trying to predict a numeric value.  I used KFold Linear Regression, Decision Tree Regression, Random Forest Regression and Bagged Decision Trees.  I'm using R^2 which is good for comparing models and Mean Absolute Error which is a good measure of the average error from the line which represents price as my measures."
   ]
  },
  {
   "cell_type": "markdown",
   "metadata": {},
   "source": [
    "#### Import and Clean Data"
   ]
  },
  {
   "cell_type": "code",
   "execution_count": 190,
   "metadata": {},
   "outputs": [],
   "source": [
    "import matplotlib.pyplot as plt\n",
    "import numpy as np\n",
    "from numpy import median\n",
    "import seaborn as sns\n",
    "import pandas as pd\n",
    "from sklearn.model_selection import train_test_split\n",
    "from sklearn.linear_model import LinearRegression\n",
    "from sklearn.metrics import mean_squared_error\n",
    "from sklearn.metrics import mean_absolute_error\n",
    "from sklearn.model_selection import GridSearchCV\n",
    "from sklearn.model_selection import KFold\n",
    "from sklearn.ensemble import RandomForestRegressor\n",
    "from sklearn.tree import DecisionTreeRegressor\n",
    "\n",
    "%matplotlib inline"
   ]
  },
  {
   "cell_type": "code",
   "execution_count": 191,
   "metadata": {},
   "outputs": [
    {
     "name": "stderr",
     "output_type": "stream",
     "text": [
      "C:\\Users\\jim44\\Anaconda3\\lib\\site-packages\\IPython\\core\\interactiveshell.py:3049: DtypeWarning: Columns (18,19,20,21,22,23,24,33,34,35,37,43,45) have mixed types. Specify dtype option on import or set low_memory=False.\n",
      "  interactivity=interactivity, compiler=compiler, result=result)\n"
     ]
    }
   ],
   "source": [
    "filepath = '../data/DC_Properties.csv'\n",
    "properties = pd.read_csv(filepath)"
   ]
  },
  {
   "cell_type": "code",
   "execution_count": 192,
   "metadata": {},
   "outputs": [],
   "source": [
    "houses = properties[properties.SOURCE != 'Condominium'] ## filter for Residential only"
   ]
  },
  {
   "cell_type": "code",
   "execution_count": 193,
   "metadata": {},
   "outputs": [],
   "source": [
    "houses = houses[houses.QUALIFIED != 'U'] ## remove unqualified sales"
   ]
  },
  {
   "cell_type": "code",
   "execution_count": 194,
   "metadata": {},
   "outputs": [],
   "source": [
    "houses = houses[houses.loc[:, 'PRICE'] > 50000] ## filter out sales under 50k as these could be parking spaces"
   ]
  },
  {
   "cell_type": "code",
   "execution_count": 195,
   "metadata": {},
   "outputs": [],
   "source": [
    "houses = houses[pd.notnull(houses['AYB'])] ## remove house without prices"
   ]
  },
  {
   "cell_type": "code",
   "execution_count": 196,
   "metadata": {},
   "outputs": [],
   "source": [
    "houses = houses[pd.notnull(houses['STORIES'])] ## remore houses with 0 stories"
   ]
  },
  {
   "cell_type": "code",
   "execution_count": 197,
   "metadata": {},
   "outputs": [],
   "source": [
    "houses['YR_RMDL'] = houses.YR_RMDL.fillna(houses.AYB) ## fill empty year remodeled with year built"
   ]
  },
  {
   "cell_type": "code",
   "execution_count": 198,
   "metadata": {},
   "outputs": [],
   "source": [
    "houses = houses[houses.loc[:, 'BATHRM'] != 0]## remove 0 values"
   ]
  },
  {
   "cell_type": "code",
   "execution_count": 199,
   "metadata": {},
   "outputs": [],
   "source": [
    "houses = houses[houses.loc[:, 'NUM_UNITS'] != 0]  ## remove 0 values"
   ]
  },
  {
   "cell_type": "code",
   "execution_count": 200,
   "metadata": {},
   "outputs": [],
   "source": [
    "houses = houses[houses.loc[:, 'ROOMS'] != 0]  ## remove 0 values"
   ]
  },
  {
   "cell_type": "code",
   "execution_count": 201,
   "metadata": {},
   "outputs": [],
   "source": [
    "houses = houses[houses.loc[:, 'BEDRM'] != 0]  ## remove 0 values"
   ]
  },
  {
   "cell_type": "code",
   "execution_count": 202,
   "metadata": {},
   "outputs": [],
   "source": [
    "houses = houses[houses.loc[:, 'STORIES'] != 0]  ## remove 0 values"
   ]
  },
  {
   "cell_type": "code",
   "execution_count": 203,
   "metadata": {},
   "outputs": [],
   "source": [
    "houses['SALEDATE'] = pd.to_datetime(houses['SALEDATE']) ## convert sale date to datetime"
   ]
  },
  {
   "cell_type": "code",
   "execution_count": 204,
   "metadata": {},
   "outputs": [],
   "source": [
    "houses['SALEDATE'] = houses['SALEDATE'].dt.year ## convert sale date to sale year"
   ]
  },
  {
   "cell_type": "code",
   "execution_count": 205,
   "metadata": {},
   "outputs": [],
   "source": [
    "houses = houses[houses.loc[:, 'SALEDATE'] > 2001] ## filter to houses should after 2001"
   ]
  },
  {
   "cell_type": "code",
   "execution_count": 206,
   "metadata": {},
   "outputs": [],
   "source": [
    "houses = houses.reset_index()"
   ]
  },
  {
   "cell_type": "code",
   "execution_count": 207,
   "metadata": {},
   "outputs": [
    {
     "data": {
      "text/plain": [
       "Index(['index', 'Unnamed: 0', 'BATHRM', 'HF_BATHRM', 'HEAT', 'AC', 'NUM_UNITS',\n",
       "       'ROOMS', 'BEDRM', 'AYB', 'YR_RMDL', 'EYB', 'STORIES', 'SALEDATE',\n",
       "       'PRICE', 'QUALIFIED', 'SALE_NUM', 'GBA', 'BLDG_NUM', 'STYLE', 'STRUCT',\n",
       "       'GRADE', 'CNDTN', 'EXTWALL', 'ROOF', 'INTWALL', 'KITCHENS',\n",
       "       'FIREPLACES', 'USECODE', 'LANDAREA', 'GIS_LAST_MOD_DTTM', 'SOURCE',\n",
       "       'CMPLX_NUM', 'LIVING_GBA', 'FULLADDRESS', 'CITY', 'STATE', 'ZIPCODE',\n",
       "       'NATIONALGRID', 'LATITUDE', 'LONGITUDE', 'ASSESSMENT_NBHD',\n",
       "       'ASSESSMENT_SUBNBHD', 'CENSUS_TRACT', 'CENSUS_BLOCK', 'WARD', 'SQUARE',\n",
       "       'X', 'Y', 'QUADRANT'],\n",
       "      dtype='object')"
      ]
     },
     "execution_count": 207,
     "metadata": {},
     "output_type": "execute_result"
    }
   ],
   "source": [
    "houses.columns"
   ]
  },
  {
   "cell_type": "code",
   "execution_count": 208,
   "metadata": {},
   "outputs": [],
   "source": [
    "columns = ['BATHRM', 'HF_BATHRM', 'ROOMS', 'NUM_UNITS',\n",
    "           'BEDRM', 'AYB', 'YR_RMDL', 'EYB', 'STORIES' , 'SALEDATE', 'PRICE',\n",
    "           'GBA', 'STRUCT', 'GRADE', 'CNDTN', 'FIREPLACES', 'LANDAREA', 'ASSESSMENT_NBHD', 'QUADRANT']\n",
    "houses = houses.loc[:, columns]  ## select target and feature columns"
   ]
  },
  {
   "cell_type": "code",
   "execution_count": 209,
   "metadata": {},
   "outputs": [],
   "source": [
    "houses.rename(columns={'BATHRM':'bath','HF_BATHRM':'hlf_bath','ROOMS':'rooms','NUM_UNITS':'num_units','BEDRM':'bedrm',\n",
    "                       'AYB':'yr_blt','YR_RMDL':'yr_rmdl','EYB':'yr_imprv','STORIES':'stories','SALEDATE':'yr_sold','PRICE':'price',\n",
    "                       'GBA':'sq_ft','STRUCT':'str_type','GRADE':'grade','CNDTN':'condition','FIREPLACES':'fireplaces',\n",
    "                      'LANDAREA':'lotsize','ASSESSMENT_NBHD':'neighborhood','QUADRANT':'quadrant'}, inplace=True)  ## rename for clarity"
   ]
  },
  {
   "cell_type": "code",
   "execution_count": 210,
   "metadata": {},
   "outputs": [
    {
     "data": {
      "text/html": [
       "<div>\n",
       "<style scoped>\n",
       "    .dataframe tbody tr th:only-of-type {\n",
       "        vertical-align: middle;\n",
       "    }\n",
       "\n",
       "    .dataframe tbody tr th {\n",
       "        vertical-align: top;\n",
       "    }\n",
       "\n",
       "    .dataframe thead th {\n",
       "        text-align: right;\n",
       "    }\n",
       "</style>\n",
       "<table border=\"1\" class=\"dataframe\">\n",
       "  <thead>\n",
       "    <tr style=\"text-align: right;\">\n",
       "      <th></th>\n",
       "      <th>bath</th>\n",
       "      <th>hlf_bath</th>\n",
       "      <th>rooms</th>\n",
       "      <th>num_units</th>\n",
       "      <th>bedrm</th>\n",
       "      <th>yr_blt</th>\n",
       "      <th>yr_rmdl</th>\n",
       "      <th>yr_imprv</th>\n",
       "      <th>stories</th>\n",
       "      <th>yr_sold</th>\n",
       "      <th>price</th>\n",
       "      <th>sq_ft</th>\n",
       "      <th>str_type</th>\n",
       "      <th>grade</th>\n",
       "      <th>condition</th>\n",
       "      <th>fireplaces</th>\n",
       "      <th>lotsize</th>\n",
       "      <th>neighborhood</th>\n",
       "      <th>quadrant</th>\n",
       "    </tr>\n",
       "  </thead>\n",
       "  <tbody>\n",
       "    <tr>\n",
       "      <th>0</th>\n",
       "      <td>4</td>\n",
       "      <td>0</td>\n",
       "      <td>8</td>\n",
       "      <td>2.0</td>\n",
       "      <td>4</td>\n",
       "      <td>1910.0</td>\n",
       "      <td>1988.0</td>\n",
       "      <td>1972</td>\n",
       "      <td>3.0</td>\n",
       "      <td>2003</td>\n",
       "      <td>1095000.0</td>\n",
       "      <td>2522.0</td>\n",
       "      <td>Row Inside</td>\n",
       "      <td>Very Good</td>\n",
       "      <td>Good</td>\n",
       "      <td>5</td>\n",
       "      <td>1680</td>\n",
       "      <td>Old City 2</td>\n",
       "      <td>NW</td>\n",
       "    </tr>\n",
       "    <tr>\n",
       "      <th>1</th>\n",
       "      <td>3</td>\n",
       "      <td>1</td>\n",
       "      <td>9</td>\n",
       "      <td>2.0</td>\n",
       "      <td>5</td>\n",
       "      <td>1910.0</td>\n",
       "      <td>2009.0</td>\n",
       "      <td>1984</td>\n",
       "      <td>3.0</td>\n",
       "      <td>2016</td>\n",
       "      <td>2100000.0</td>\n",
       "      <td>2522.0</td>\n",
       "      <td>Row Inside</td>\n",
       "      <td>Very Good</td>\n",
       "      <td>Very Good</td>\n",
       "      <td>4</td>\n",
       "      <td>1680</td>\n",
       "      <td>Old City 2</td>\n",
       "      <td>NW</td>\n",
       "    </tr>\n",
       "    <tr>\n",
       "      <th>2</th>\n",
       "      <td>3</td>\n",
       "      <td>1</td>\n",
       "      <td>8</td>\n",
       "      <td>2.0</td>\n",
       "      <td>5</td>\n",
       "      <td>1900.0</td>\n",
       "      <td>2003.0</td>\n",
       "      <td>1984</td>\n",
       "      <td>3.0</td>\n",
       "      <td>2006</td>\n",
       "      <td>1602000.0</td>\n",
       "      <td>2484.0</td>\n",
       "      <td>Row Inside</td>\n",
       "      <td>Very Good</td>\n",
       "      <td>Good</td>\n",
       "      <td>3</td>\n",
       "      <td>1680</td>\n",
       "      <td>Old City 2</td>\n",
       "      <td>NW</td>\n",
       "    </tr>\n",
       "    <tr>\n",
       "      <th>3</th>\n",
       "      <td>3</td>\n",
       "      <td>2</td>\n",
       "      <td>10</td>\n",
       "      <td>1.0</td>\n",
       "      <td>5</td>\n",
       "      <td>1913.0</td>\n",
       "      <td>1913.0</td>\n",
       "      <td>1972</td>\n",
       "      <td>4.0</td>\n",
       "      <td>2010</td>\n",
       "      <td>1950000.0</td>\n",
       "      <td>5344.0</td>\n",
       "      <td>Row Inside</td>\n",
       "      <td>Very Good</td>\n",
       "      <td>Good</td>\n",
       "      <td>4</td>\n",
       "      <td>2196</td>\n",
       "      <td>Old City 2</td>\n",
       "      <td>NW</td>\n",
       "    </tr>\n",
       "    <tr>\n",
       "      <th>4</th>\n",
       "      <td>3</td>\n",
       "      <td>1</td>\n",
       "      <td>8</td>\n",
       "      <td>2.0</td>\n",
       "      <td>4</td>\n",
       "      <td>1906.0</td>\n",
       "      <td>2011.0</td>\n",
       "      <td>1972</td>\n",
       "      <td>3.0</td>\n",
       "      <td>2011</td>\n",
       "      <td>1050000.0</td>\n",
       "      <td>2401.0</td>\n",
       "      <td>Row Inside</td>\n",
       "      <td>Very Good</td>\n",
       "      <td>Average</td>\n",
       "      <td>1</td>\n",
       "      <td>1627</td>\n",
       "      <td>Old City 2</td>\n",
       "      <td>NW</td>\n",
       "    </tr>\n",
       "  </tbody>\n",
       "</table>\n",
       "</div>"
      ],
      "text/plain": [
       "   bath  hlf_bath  rooms  num_units  bedrm  yr_blt  yr_rmdl  yr_imprv  \\\n",
       "0     4         0      8        2.0      4  1910.0   1988.0      1972   \n",
       "1     3         1      9        2.0      5  1910.0   2009.0      1984   \n",
       "2     3         1      8        2.0      5  1900.0   2003.0      1984   \n",
       "3     3         2     10        1.0      5  1913.0   1913.0      1972   \n",
       "4     3         1      8        2.0      4  1906.0   2011.0      1972   \n",
       "\n",
       "   stories  yr_sold      price   sq_ft    str_type      grade  condition  \\\n",
       "0      3.0     2003  1095000.0  2522.0  Row Inside  Very Good       Good   \n",
       "1      3.0     2016  2100000.0  2522.0  Row Inside  Very Good  Very Good   \n",
       "2      3.0     2006  1602000.0  2484.0  Row Inside  Very Good       Good   \n",
       "3      4.0     2010  1950000.0  5344.0  Row Inside  Very Good       Good   \n",
       "4      3.0     2011  1050000.0  2401.0  Row Inside  Very Good    Average   \n",
       "\n",
       "   fireplaces  lotsize neighborhood quadrant  \n",
       "0           5     1680   Old City 2       NW  \n",
       "1           4     1680   Old City 2       NW  \n",
       "2           3     1680   Old City 2       NW  \n",
       "3           4     2196   Old City 2       NW  \n",
       "4           1     1627   Old City 2       NW  "
      ]
     },
     "execution_count": 210,
     "metadata": {},
     "output_type": "execute_result"
    }
   ],
   "source": [
    "houses.head()"
   ]
  },
  {
   "cell_type": "code",
   "execution_count": 216,
   "metadata": {},
   "outputs": [],
   "source": [
    "houses = pd.get_dummies(houses, columns=['str_type', 'grade', 'condition', 'neighborhood', 'quadrant'], drop_first=True) \n",
    "## convert categorical variables to numeric"
   ]
  },
  {
   "cell_type": "code",
   "execution_count": 217,
   "metadata": {},
   "outputs": [
    {
     "data": {
      "text/plain": [
       "(38424, 93)"
      ]
     },
     "execution_count": 217,
     "metadata": {},
     "output_type": "execute_result"
    }
   ],
   "source": [
    "houses.shape  ## I end up with 1 target and 92 features"
   ]
  },
  {
   "cell_type": "markdown",
   "metadata": {},
   "source": [
    "#### Modeling Data"
   ]
  },
  {
   "cell_type": "markdown",
   "metadata": {},
   "source": [
    "##### Train Test Split"
   ]
  },
  {
   "cell_type": "code",
   "execution_count": 218,
   "metadata": {},
   "outputs": [],
   "source": [
    "target_col = houses.loc[:, 'price']\n",
    "feature_cols = houses.drop('price', axis='columns')\n",
    "y = target_col\n",
    "X = feature_cols\n",
    "\n",
    "X_train, X_test, y_train, y_test = train_test_split(X, y, train_size=.7, test_size=.3, random_state=10)"
   ]
  },
  {
   "cell_type": "markdown",
   "metadata": {},
   "source": [
    "##### KFold Linear Regression"
   ]
  },
  {
   "cell_type": "code",
   "execution_count": 219,
   "metadata": {},
   "outputs": [
    {
     "name": "stdout",
     "output_type": "stream",
     "text": [
      "[0.83369169]\n",
      "[0.84102057]\n"
     ]
    }
   ],
   "source": [
    "lr = LinearRegression()\n",
    "\n",
    "kf = KFold(50, shuffle=True)\n",
    "\n",
    "lr_grid = GridSearchCV(\n",
    "            estimator=lr, \n",
    "            param_grid={}, \n",
    "            cv=kf, \n",
    "            return_train_score=True)\n",
    "\n",
    "lr_grid.fit(X, y)\n",
    "\n",
    "results = lr_grid.cv_results_\n",
    "\n",
    "print(results['mean_test_score'])  \n",
    "print(results['mean_train_score']) ## These R^2 values are not bad.  Minimal variance but there is bias."
   ]
  },
  {
   "cell_type": "markdown",
   "metadata": {},
   "source": [
    "##### Fit the best Linear Regression model"
   ]
  },
  {
   "cell_type": "code",
   "execution_count": 220,
   "metadata": {},
   "outputs": [
    {
     "name": "stdout",
     "output_type": "stream",
     "text": [
      "Linear Regression Test R^2: 0.8289621252210831\n",
      "Linear Regression Training R^2: 0.8444988224375176\n",
      "Linear Regression Test MAE: 138408.66428597335\n",
      "Linear Regression Training MAE: 134066.51683644875\n"
     ]
    }
   ],
   "source": [
    "linreg = lr_grid.best_estimator_\n",
    "\n",
    "linreg.fit(X_train, y_train)\n",
    "\n",
    "print('Linear Regression Test R^2:', linreg.score(X_test, y_test))       \n",
    "print('Linear Regression Training R^2:', linreg.score(X_train, y_train))\n",
    "\n",
    "print('Linear Regression Test MAE:', mean_absolute_error(y_test, linreg.predict(X_test)))\n",
    "print('Linear Regression Training MAE:', mean_absolute_error(y_train, linreg.predict(X_train)))"
   ]
  },
  {
   "cell_type": "markdown",
   "metadata": {},
   "source": [
    "##### KFold Decision Tree Regressor"
   ]
  },
  {
   "cell_type": "code",
   "execution_count": 222,
   "metadata": {},
   "outputs": [
    {
     "name": "stdout",
     "output_type": "stream",
     "text": [
      "[0.74913565]\n",
      "[0.99991042]\n"
     ]
    }
   ],
   "source": [
    "dtr = DecisionTreeRegressor(max_depth=100)\n",
    "kf = KFold(25, shuffle=True, random_state=1)\n",
    "\n",
    "dtr_grid = GridSearchCV(\n",
    "            estimator=dtr,\n",
    "            param_grid={},\n",
    "            return_train_score=True,\n",
    "            cv=kf,\n",
    "            )\n",
    "\n",
    "dtr_grid.fit(X, y)\n",
    "print(dtr_grid.cv_results_['mean_test_score'])\n",
    "print(dtr_grid.cv_results_['mean_train_score'])  ## This has a lot of variance "
   ]
  },
  {
   "cell_type": "markdown",
   "metadata": {},
   "source": [
    "##### Fit best Decision Tree Regressor"
   ]
  },
  {
   "cell_type": "code",
   "execution_count": 223,
   "metadata": {},
   "outputs": [
    {
     "name": "stdout",
     "output_type": "stream",
     "text": [
      "Decision Tree Regressor Test R^2: 0.7794403253557831\n",
      "Decision Tree Regressor Training R^2: 0.999881874016603\n",
      "Decision Tree Regressor Test MAE: 139461.52271508708\n",
      "Decision Tree Regressor Training MAE: 273.32286638480497\n"
     ]
    }
   ],
   "source": [
    "dtreg = dtr_grid.best_estimator_   ## The linear regression model performed better.  This one is overfitting a lot.\n",
    "\n",
    "dtreg.fit(X_train, y_train)\n",
    "\n",
    "print('Decision Tree Regressor Test R^2:', dtreg.score(X_test, y_test))       \n",
    "print('Decision Tree Regressor Training R^2:', dtreg.score(X_train, y_train))\n",
    "\n",
    "print('Decision Tree Regressor Test MAE:', mean_absolute_error(y_test, dtreg.predict(X_test)))\n",
    "print('Decision Tree Regressor Training MAE:', mean_absolute_error(y_train, dtreg.predict(X_train)))"
   ]
  },
  {
   "cell_type": "code",
   "execution_count": 225,
   "metadata": {},
   "outputs": [
    {
     "data": {
      "text/html": [
       "<div>\n",
       "<style scoped>\n",
       "    .dataframe tbody tr th:only-of-type {\n",
       "        vertical-align: middle;\n",
       "    }\n",
       "\n",
       "    .dataframe tbody tr th {\n",
       "        vertical-align: top;\n",
       "    }\n",
       "\n",
       "    .dataframe thead th {\n",
       "        text-align: right;\n",
       "    }\n",
       "</style>\n",
       "<table border=\"1\" class=\"dataframe\">\n",
       "  <thead>\n",
       "    <tr style=\"text-align: right;\">\n",
       "      <th></th>\n",
       "      <th>feature</th>\n",
       "      <th>importance</th>\n",
       "    </tr>\n",
       "  </thead>\n",
       "  <tbody>\n",
       "    <tr>\n",
       "      <th>43</th>\n",
       "      <td>neighborhood_Capitol Hill</td>\n",
       "      <td>0.005280</td>\n",
       "    </tr>\n",
       "    <tr>\n",
       "      <th>27</th>\n",
       "      <td>grade_Good Quality</td>\n",
       "      <td>0.006063</td>\n",
       "    </tr>\n",
       "    <tr>\n",
       "      <th>29</th>\n",
       "      <td>grade_Very Good</td>\n",
       "      <td>0.006217</td>\n",
       "    </tr>\n",
       "    <tr>\n",
       "      <th>74</th>\n",
       "      <td>neighborhood_Old City 1</td>\n",
       "      <td>0.006625</td>\n",
       "    </tr>\n",
       "    <tr>\n",
       "      <th>13</th>\n",
       "      <td>str_type_Multi</td>\n",
       "      <td>0.008143</td>\n",
       "    </tr>\n",
       "    <tr>\n",
       "      <th>0</th>\n",
       "      <td>bath</td>\n",
       "      <td>0.009322</td>\n",
       "    </tr>\n",
       "    <tr>\n",
       "      <th>6</th>\n",
       "      <td>yr_rmdl</td>\n",
       "      <td>0.010950</td>\n",
       "    </tr>\n",
       "    <tr>\n",
       "      <th>34</th>\n",
       "      <td>condition_Very Good</td>\n",
       "      <td>0.011033</td>\n",
       "    </tr>\n",
       "    <tr>\n",
       "      <th>11</th>\n",
       "      <td>fireplaces</td>\n",
       "      <td>0.012746</td>\n",
       "    </tr>\n",
       "    <tr>\n",
       "      <th>25</th>\n",
       "      <td>grade_Exceptional-D</td>\n",
       "      <td>0.014598</td>\n",
       "    </tr>\n",
       "    <tr>\n",
       "      <th>12</th>\n",
       "      <td>lotsize</td>\n",
       "      <td>0.019291</td>\n",
       "    </tr>\n",
       "    <tr>\n",
       "      <th>20</th>\n",
       "      <td>grade_Average</td>\n",
       "      <td>0.028022</td>\n",
       "    </tr>\n",
       "    <tr>\n",
       "      <th>60</th>\n",
       "      <td>neighborhood_Georgetown</td>\n",
       "      <td>0.032741</td>\n",
       "    </tr>\n",
       "    <tr>\n",
       "      <th>89</th>\n",
       "      <td>quadrant_NW</td>\n",
       "      <td>0.038228</td>\n",
       "    </tr>\n",
       "    <tr>\n",
       "      <th>1</th>\n",
       "      <td>hlf_bath</td>\n",
       "      <td>0.050328</td>\n",
       "    </tr>\n",
       "    <tr>\n",
       "      <th>5</th>\n",
       "      <td>yr_blt</td>\n",
       "      <td>0.051759</td>\n",
       "    </tr>\n",
       "    <tr>\n",
       "      <th>9</th>\n",
       "      <td>yr_sold</td>\n",
       "      <td>0.056198</td>\n",
       "    </tr>\n",
       "    <tr>\n",
       "      <th>7</th>\n",
       "      <td>yr_imprv</td>\n",
       "      <td>0.063019</td>\n",
       "    </tr>\n",
       "    <tr>\n",
       "      <th>10</th>\n",
       "      <td>sq_ft</td>\n",
       "      <td>0.507961</td>\n",
       "    </tr>\n",
       "  </tbody>\n",
       "</table>\n",
       "</div>"
      ],
      "text/plain": [
       "                      feature  importance\n",
       "43  neighborhood_Capitol Hill    0.005280\n",
       "27         grade_Good Quality    0.006063\n",
       "29            grade_Very Good    0.006217\n",
       "74    neighborhood_Old City 1    0.006625\n",
       "13             str_type_Multi    0.008143\n",
       "0                        bath    0.009322\n",
       "6                     yr_rmdl    0.010950\n",
       "34        condition_Very Good    0.011033\n",
       "11                 fireplaces    0.012746\n",
       "25        grade_Exceptional-D    0.014598\n",
       "12                    lotsize    0.019291\n",
       "20              grade_Average    0.028022\n",
       "60    neighborhood_Georgetown    0.032741\n",
       "89                quadrant_NW    0.038228\n",
       "1                    hlf_bath    0.050328\n",
       "5                      yr_blt    0.051759\n",
       "9                     yr_sold    0.056198\n",
       "7                    yr_imprv    0.063019\n",
       "10                      sq_ft    0.507961"
      ]
     },
     "execution_count": 225,
     "metadata": {},
     "output_type": "execute_result"
    }
   ],
   "source": [
    "fi_dtreg = pd.DataFrame(list(zip(feature_cols, dtreg.feature_importances_)))\n",
    "fi_dtreg = fi_dtreg.sort_values(1)\n",
    "fi_dtreg = fi_dtreg[fi_dtreg.loc[:, 1] > .005]\n",
    "fi_dtreg = fi_dtreg.rename(columns={0:'feature',1:'importance'})\n",
    "fi_dtreg"
   ]
  },
  {
   "cell_type": "markdown",
   "metadata": {},
   "source": [
    "##### Random Forest Regressor"
   ]
  },
  {
   "cell_type": "code",
   "execution_count": 227,
   "metadata": {},
   "outputs": [
    {
     "name": "stdout",
     "output_type": "stream",
     "text": [
      "Random Forest Regressor Test R^2: 0.8807902203699343\n",
      "Random Forest Regressor Training R^2: 0.9821507944444564\n",
      "Random Forest Regressor Test MAE: 97351.19940574288\n",
      "Random Forest Regressor Training MAE: 35911.41452955152\n"
     ]
    }
   ],
   "source": [
    "rfr = RandomForestRegressor(n_estimators=200)\n",
    "\n",
    "rfr.fit(X_train, y_train)\n",
    "\n",
    "print('Random Forest Regressor Test R^2:', rfr.score(X_test, y_test))       \n",
    "print('Random Forest Regressor Training R^2:', rfr.score(X_train, y_train))\n",
    "print('Random Forest Regressor Test MAE:', mean_absolute_error(y_test, rfr.predict(X_test)))\n",
    "print('Random Forest Regressor Training MAE:', mean_absolute_error(y_train, rfr.predict(X_train)))\n",
    "\n",
    "## I opted to not use Kfold for this model due to performance and time\n",
    "## I still have a variance issue, but the MAE is better on the test set than the first two models\n",
    "## It's still overfitting but not as badly"
   ]
  },
  {
   "cell_type": "code",
   "execution_count": 229,
   "metadata": {},
   "outputs": [
    {
     "data": {
      "text/html": [
       "<div>\n",
       "<style scoped>\n",
       "    .dataframe tbody tr th:only-of-type {\n",
       "        vertical-align: middle;\n",
       "    }\n",
       "\n",
       "    .dataframe tbody tr th {\n",
       "        vertical-align: top;\n",
       "    }\n",
       "\n",
       "    .dataframe thead th {\n",
       "        text-align: right;\n",
       "    }\n",
       "</style>\n",
       "<table border=\"1\" class=\"dataframe\">\n",
       "  <thead>\n",
       "    <tr style=\"text-align: right;\">\n",
       "      <th></th>\n",
       "      <th>feature</th>\n",
       "      <th>importance</th>\n",
       "    </tr>\n",
       "  </thead>\n",
       "  <tbody>\n",
       "    <tr>\n",
       "      <th>29</th>\n",
       "      <td>grade_Very Good</td>\n",
       "      <td>0.005040</td>\n",
       "    </tr>\n",
       "    <tr>\n",
       "      <th>4</th>\n",
       "      <td>bedrm</td>\n",
       "      <td>0.005230</td>\n",
       "    </tr>\n",
       "    <tr>\n",
       "      <th>74</th>\n",
       "      <td>neighborhood_Old City 1</td>\n",
       "      <td>0.006046</td>\n",
       "    </tr>\n",
       "    <tr>\n",
       "      <th>2</th>\n",
       "      <td>rooms</td>\n",
       "      <td>0.006657</td>\n",
       "    </tr>\n",
       "    <tr>\n",
       "      <th>27</th>\n",
       "      <td>grade_Good Quality</td>\n",
       "      <td>0.006661</td>\n",
       "    </tr>\n",
       "    <tr>\n",
       "      <th>0</th>\n",
       "      <td>bath</td>\n",
       "      <td>0.008584</td>\n",
       "    </tr>\n",
       "    <tr>\n",
       "      <th>34</th>\n",
       "      <td>condition_Very Good</td>\n",
       "      <td>0.009543</td>\n",
       "    </tr>\n",
       "    <tr>\n",
       "      <th>25</th>\n",
       "      <td>grade_Exceptional-D</td>\n",
       "      <td>0.011425</td>\n",
       "    </tr>\n",
       "    <tr>\n",
       "      <th>6</th>\n",
       "      <td>yr_rmdl</td>\n",
       "      <td>0.011563</td>\n",
       "    </tr>\n",
       "    <tr>\n",
       "      <th>11</th>\n",
       "      <td>fireplaces</td>\n",
       "      <td>0.022496</td>\n",
       "    </tr>\n",
       "    <tr>\n",
       "      <th>20</th>\n",
       "      <td>grade_Average</td>\n",
       "      <td>0.023164</td>\n",
       "    </tr>\n",
       "    <tr>\n",
       "      <th>89</th>\n",
       "      <td>quadrant_NW</td>\n",
       "      <td>0.023994</td>\n",
       "    </tr>\n",
       "    <tr>\n",
       "      <th>12</th>\n",
       "      <td>lotsize</td>\n",
       "      <td>0.027169</td>\n",
       "    </tr>\n",
       "    <tr>\n",
       "      <th>60</th>\n",
       "      <td>neighborhood_Georgetown</td>\n",
       "      <td>0.037979</td>\n",
       "    </tr>\n",
       "    <tr>\n",
       "      <th>1</th>\n",
       "      <td>hlf_bath</td>\n",
       "      <td>0.040844</td>\n",
       "    </tr>\n",
       "    <tr>\n",
       "      <th>5</th>\n",
       "      <td>yr_blt</td>\n",
       "      <td>0.049241</td>\n",
       "    </tr>\n",
       "    <tr>\n",
       "      <th>9</th>\n",
       "      <td>yr_sold</td>\n",
       "      <td>0.055517</td>\n",
       "    </tr>\n",
       "    <tr>\n",
       "      <th>7</th>\n",
       "      <td>yr_imprv</td>\n",
       "      <td>0.063066</td>\n",
       "    </tr>\n",
       "    <tr>\n",
       "      <th>10</th>\n",
       "      <td>sq_ft</td>\n",
       "      <td>0.519368</td>\n",
       "    </tr>\n",
       "  </tbody>\n",
       "</table>\n",
       "</div>"
      ],
      "text/plain": [
       "                    feature  importance\n",
       "29          grade_Very Good    0.005040\n",
       "4                     bedrm    0.005230\n",
       "74  neighborhood_Old City 1    0.006046\n",
       "2                     rooms    0.006657\n",
       "27       grade_Good Quality    0.006661\n",
       "0                      bath    0.008584\n",
       "34      condition_Very Good    0.009543\n",
       "25      grade_Exceptional-D    0.011425\n",
       "6                   yr_rmdl    0.011563\n",
       "11               fireplaces    0.022496\n",
       "20            grade_Average    0.023164\n",
       "89              quadrant_NW    0.023994\n",
       "12                  lotsize    0.027169\n",
       "60  neighborhood_Georgetown    0.037979\n",
       "1                  hlf_bath    0.040844\n",
       "5                    yr_blt    0.049241\n",
       "9                   yr_sold    0.055517\n",
       "7                  yr_imprv    0.063066\n",
       "10                    sq_ft    0.519368"
      ]
     },
     "execution_count": 229,
     "metadata": {},
     "output_type": "execute_result"
    }
   ],
   "source": [
    "fi_rfr = pd.DataFrame(list(zip(feature_cols, rfr.feature_importances_)))\n",
    "fi_rfr = fi_rfr.sort_values(1)\n",
    "fi_rfr = fi_rfr[fi_rfr.loc[:, 1] > .005]\n",
    "fi_rfr = fi_rfr.rename(columns={0:'feature',1:'importance'})\n",
    "fi_rfr"
   ]
  },
  {
   "cell_type": "markdown",
   "metadata": {},
   "source": [
    "##### Bagged Decision Tree Regressor"
   ]
  },
  {
   "cell_type": "code",
   "execution_count": 231,
   "metadata": {},
   "outputs": [
    {
     "name": "stdout",
     "output_type": "stream",
     "text": [
      "Random Forest Regressor Test R^2: 0.8815848267307608\n",
      "Random Forest Regressor Training R^2: 0.9824747709385985\n",
      "Random Forest Regressor OOB R^2: 0.8698507268310469\n",
      "Random Forest Regressor Test MAE: 97297.1875102007\n",
      "Random Forest Regressor Training MAE: 35717.37681751005\n"
     ]
    }
   ],
   "source": [
    "brfr = RandomForestRegressor(\n",
    "        n_estimators=500,\n",
    "        oob_score=True,\n",
    "        random_state=1)\n",
    "\n",
    "brfr.fit(X_train, y_train)\n",
    "\n",
    "print('Random Forest Regressor Test R^2:', brfr.score(X_test, y_test))       \n",
    "print('Random Forest Regressor Training R^2:', brfr.score(X_train, y_train))\n",
    "print('Random Forest Regressor OOB R^2:', brfr.oob_score_)\n",
    "print('Random Forest Regressor Test MAE:', mean_absolute_error(y_test, brfr.predict(X_test)))\n",
    "print('Random Forest Regressor Training MAE:', mean_absolute_error(y_train, brfr.predict(X_train)))\n",
    "\n",
    "## I opted to not use Kfold for this model due to performance and time\n",
    "## I still have a variance issue, but the MAE is just a bit better than the random forest\n",
    "## It's still overfitting"
   ]
  },
  {
   "cell_type": "markdown",
   "metadata": {},
   "source": [
    "##### I'm going to try reducing the variance by removing less important features from the best performing model"
   ]
  },
  {
   "cell_type": "code",
   "execution_count": 233,
   "metadata": {},
   "outputs": [
    {
     "data": {
      "text/html": [
       "<div>\n",
       "<style scoped>\n",
       "    .dataframe tbody tr th:only-of-type {\n",
       "        vertical-align: middle;\n",
       "    }\n",
       "\n",
       "    .dataframe tbody tr th {\n",
       "        vertical-align: top;\n",
       "    }\n",
       "\n",
       "    .dataframe thead th {\n",
       "        text-align: right;\n",
       "    }\n",
       "</style>\n",
       "<table border=\"1\" class=\"dataframe\">\n",
       "  <thead>\n",
       "    <tr style=\"text-align: right;\">\n",
       "      <th></th>\n",
       "      <th>feature</th>\n",
       "      <th>importance</th>\n",
       "    </tr>\n",
       "  </thead>\n",
       "  <tbody>\n",
       "    <tr>\n",
       "      <th>29</th>\n",
       "      <td>grade_Very Good</td>\n",
       "      <td>0.005153</td>\n",
       "    </tr>\n",
       "    <tr>\n",
       "      <th>74</th>\n",
       "      <td>neighborhood_Old City 1</td>\n",
       "      <td>0.006266</td>\n",
       "    </tr>\n",
       "    <tr>\n",
       "      <th>2</th>\n",
       "      <td>rooms</td>\n",
       "      <td>0.006716</td>\n",
       "    </tr>\n",
       "    <tr>\n",
       "      <th>27</th>\n",
       "      <td>grade_Good Quality</td>\n",
       "      <td>0.006945</td>\n",
       "    </tr>\n",
       "    <tr>\n",
       "      <th>0</th>\n",
       "      <td>bath</td>\n",
       "      <td>0.008811</td>\n",
       "    </tr>\n",
       "    <tr>\n",
       "      <th>34</th>\n",
       "      <td>condition_Very Good</td>\n",
       "      <td>0.009582</td>\n",
       "    </tr>\n",
       "    <tr>\n",
       "      <th>25</th>\n",
       "      <td>grade_Exceptional-D</td>\n",
       "      <td>0.011560</td>\n",
       "    </tr>\n",
       "    <tr>\n",
       "      <th>6</th>\n",
       "      <td>yr_rmdl</td>\n",
       "      <td>0.011827</td>\n",
       "    </tr>\n",
       "    <tr>\n",
       "      <th>20</th>\n",
       "      <td>grade_Average</td>\n",
       "      <td>0.021318</td>\n",
       "    </tr>\n",
       "    <tr>\n",
       "      <th>11</th>\n",
       "      <td>fireplaces</td>\n",
       "      <td>0.023424</td>\n",
       "    </tr>\n",
       "    <tr>\n",
       "      <th>89</th>\n",
       "      <td>quadrant_NW</td>\n",
       "      <td>0.024602</td>\n",
       "    </tr>\n",
       "    <tr>\n",
       "      <th>12</th>\n",
       "      <td>lotsize</td>\n",
       "      <td>0.028377</td>\n",
       "    </tr>\n",
       "    <tr>\n",
       "      <th>1</th>\n",
       "      <td>hlf_bath</td>\n",
       "      <td>0.036023</td>\n",
       "    </tr>\n",
       "    <tr>\n",
       "      <th>60</th>\n",
       "      <td>neighborhood_Georgetown</td>\n",
       "      <td>0.038433</td>\n",
       "    </tr>\n",
       "    <tr>\n",
       "      <th>5</th>\n",
       "      <td>yr_blt</td>\n",
       "      <td>0.048943</td>\n",
       "    </tr>\n",
       "    <tr>\n",
       "      <th>9</th>\n",
       "      <td>yr_sold</td>\n",
       "      <td>0.055375</td>\n",
       "    </tr>\n",
       "    <tr>\n",
       "      <th>7</th>\n",
       "      <td>yr_imprv</td>\n",
       "      <td>0.063137</td>\n",
       "    </tr>\n",
       "    <tr>\n",
       "      <th>10</th>\n",
       "      <td>sq_ft</td>\n",
       "      <td>0.521953</td>\n",
       "    </tr>\n",
       "  </tbody>\n",
       "</table>\n",
       "</div>"
      ],
      "text/plain": [
       "                    feature  importance\n",
       "29          grade_Very Good    0.005153\n",
       "74  neighborhood_Old City 1    0.006266\n",
       "2                     rooms    0.006716\n",
       "27       grade_Good Quality    0.006945\n",
       "0                      bath    0.008811\n",
       "34      condition_Very Good    0.009582\n",
       "25      grade_Exceptional-D    0.011560\n",
       "6                   yr_rmdl    0.011827\n",
       "20            grade_Average    0.021318\n",
       "11               fireplaces    0.023424\n",
       "89              quadrant_NW    0.024602\n",
       "12                  lotsize    0.028377\n",
       "1                  hlf_bath    0.036023\n",
       "60  neighborhood_Georgetown    0.038433\n",
       "5                    yr_blt    0.048943\n",
       "9                   yr_sold    0.055375\n",
       "7                  yr_imprv    0.063137\n",
       "10                    sq_ft    0.521953"
      ]
     },
     "execution_count": 233,
     "metadata": {},
     "output_type": "execute_result"
    }
   ],
   "source": [
    "fi_brfr = pd.DataFrame(list(zip(feature_cols, brfr.feature_importances_)))\n",
    "fi_brfr = fi_brfr.sort_values(1)\n",
    "fi_brfr = fi_brfr[fi_brfr.loc[:, 1] > .005]\n",
    "fi_brfr = fi_brfr.rename(columns={0:'feature',1:'importance'})\n",
    "fi_brfr"
   ]
  },
  {
   "cell_type": "code",
   "execution_count": 235,
   "metadata": {},
   "outputs": [
    {
     "data": {
      "text/html": [
       "<div>\n",
       "<style scoped>\n",
       "    .dataframe tbody tr th:only-of-type {\n",
       "        vertical-align: middle;\n",
       "    }\n",
       "\n",
       "    .dataframe tbody tr th {\n",
       "        vertical-align: top;\n",
       "    }\n",
       "\n",
       "    .dataframe thead th {\n",
       "        text-align: right;\n",
       "    }\n",
       "</style>\n",
       "<table border=\"1\" class=\"dataframe\">\n",
       "  <thead>\n",
       "    <tr style=\"text-align: right;\">\n",
       "      <th></th>\n",
       "      <th>sq_ft</th>\n",
       "      <th>yr_imprv</th>\n",
       "      <th>yr_sold</th>\n",
       "      <th>yr_blt</th>\n",
       "      <th>neighborhood_Georgetown</th>\n",
       "      <th>hlf_bath</th>\n",
       "      <th>lotsize</th>\n",
       "      <th>fireplaces</th>\n",
       "      <th>grade_Average</th>\n",
       "      <th>yr_rmdl</th>\n",
       "      <th>grade_Exceptional-D</th>\n",
       "      <th>condition_Very Good</th>\n",
       "      <th>bath</th>\n",
       "      <th>grade_Good Quality</th>\n",
       "      <th>num_units</th>\n",
       "      <th>neighborhood_Old City 1</th>\n",
       "      <th>grade_Very Good</th>\n",
       "    </tr>\n",
       "  </thead>\n",
       "  <tbody>\n",
       "    <tr>\n",
       "      <th>0</th>\n",
       "      <td>2522.0</td>\n",
       "      <td>1972</td>\n",
       "      <td>2003</td>\n",
       "      <td>1910.0</td>\n",
       "      <td>0</td>\n",
       "      <td>0</td>\n",
       "      <td>1680</td>\n",
       "      <td>5</td>\n",
       "      <td>0</td>\n",
       "      <td>1988.0</td>\n",
       "      <td>0</td>\n",
       "      <td>0</td>\n",
       "      <td>4</td>\n",
       "      <td>0</td>\n",
       "      <td>2.0</td>\n",
       "      <td>0</td>\n",
       "      <td>1</td>\n",
       "    </tr>\n",
       "    <tr>\n",
       "      <th>1</th>\n",
       "      <td>2522.0</td>\n",
       "      <td>1984</td>\n",
       "      <td>2016</td>\n",
       "      <td>1910.0</td>\n",
       "      <td>0</td>\n",
       "      <td>1</td>\n",
       "      <td>1680</td>\n",
       "      <td>4</td>\n",
       "      <td>0</td>\n",
       "      <td>2009.0</td>\n",
       "      <td>0</td>\n",
       "      <td>1</td>\n",
       "      <td>3</td>\n",
       "      <td>0</td>\n",
       "      <td>2.0</td>\n",
       "      <td>0</td>\n",
       "      <td>1</td>\n",
       "    </tr>\n",
       "    <tr>\n",
       "      <th>2</th>\n",
       "      <td>2484.0</td>\n",
       "      <td>1984</td>\n",
       "      <td>2006</td>\n",
       "      <td>1900.0</td>\n",
       "      <td>0</td>\n",
       "      <td>1</td>\n",
       "      <td>1680</td>\n",
       "      <td>3</td>\n",
       "      <td>0</td>\n",
       "      <td>2003.0</td>\n",
       "      <td>0</td>\n",
       "      <td>0</td>\n",
       "      <td>3</td>\n",
       "      <td>0</td>\n",
       "      <td>2.0</td>\n",
       "      <td>0</td>\n",
       "      <td>1</td>\n",
       "    </tr>\n",
       "    <tr>\n",
       "      <th>3</th>\n",
       "      <td>5344.0</td>\n",
       "      <td>1972</td>\n",
       "      <td>2010</td>\n",
       "      <td>1913.0</td>\n",
       "      <td>0</td>\n",
       "      <td>2</td>\n",
       "      <td>2196</td>\n",
       "      <td>4</td>\n",
       "      <td>0</td>\n",
       "      <td>1913.0</td>\n",
       "      <td>0</td>\n",
       "      <td>0</td>\n",
       "      <td>3</td>\n",
       "      <td>0</td>\n",
       "      <td>1.0</td>\n",
       "      <td>0</td>\n",
       "      <td>1</td>\n",
       "    </tr>\n",
       "    <tr>\n",
       "      <th>4</th>\n",
       "      <td>2401.0</td>\n",
       "      <td>1972</td>\n",
       "      <td>2011</td>\n",
       "      <td>1906.0</td>\n",
       "      <td>0</td>\n",
       "      <td>1</td>\n",
       "      <td>1627</td>\n",
       "      <td>1</td>\n",
       "      <td>0</td>\n",
       "      <td>2011.0</td>\n",
       "      <td>0</td>\n",
       "      <td>0</td>\n",
       "      <td>3</td>\n",
       "      <td>0</td>\n",
       "      <td>2.0</td>\n",
       "      <td>0</td>\n",
       "      <td>1</td>\n",
       "    </tr>\n",
       "  </tbody>\n",
       "</table>\n",
       "</div>"
      ],
      "text/plain": [
       "    sq_ft  yr_imprv  yr_sold  yr_blt  neighborhood_Georgetown  hlf_bath  \\\n",
       "0  2522.0      1972     2003  1910.0                        0         0   \n",
       "1  2522.0      1984     2016  1910.0                        0         1   \n",
       "2  2484.0      1984     2006  1900.0                        0         1   \n",
       "3  5344.0      1972     2010  1913.0                        0         2   \n",
       "4  2401.0      1972     2011  1906.0                        0         1   \n",
       "\n",
       "   lotsize  fireplaces  grade_Average  yr_rmdl  grade_Exceptional-D  \\\n",
       "0     1680           5              0   1988.0                    0   \n",
       "1     1680           4              0   2009.0                    0   \n",
       "2     1680           3              0   2003.0                    0   \n",
       "3     2196           4              0   1913.0                    0   \n",
       "4     1627           1              0   2011.0                    0   \n",
       "\n",
       "   condition_Very Good  bath  grade_Good Quality  num_units  \\\n",
       "0                    0     4                   0        2.0   \n",
       "1                    1     3                   0        2.0   \n",
       "2                    0     3                   0        2.0   \n",
       "3                    0     3                   0        1.0   \n",
       "4                    0     3                   0        2.0   \n",
       "\n",
       "   neighborhood_Old City 1  grade_Very Good  \n",
       "0                        0                1  \n",
       "1                        0                1  \n",
       "2                        0                1  \n",
       "3                        0                1  \n",
       "4                        0                1  "
      ]
     },
     "execution_count": 235,
     "metadata": {},
     "output_type": "execute_result"
    }
   ],
   "source": [
    "houses_subset = houses.iloc[:, [11,7,9,5,61,1,13,12,21,6,26,35,0,28,3,75,30]]\n",
    "houses_subset.head()"
   ]
  },
  {
   "cell_type": "code",
   "execution_count": 236,
   "metadata": {},
   "outputs": [],
   "source": [
    "target_col2 = houses.loc[:, 'price']\n",
    "feature_cols2 = houses_subset\n",
    "y2 = target_col2\n",
    "X2 = feature_cols2\n",
    "\n",
    "X_train, X_test, y_train, y_test = train_test_split(X2, y2, train_size=.7, test_size=.3, random_state=10)"
   ]
  },
  {
   "cell_type": "code",
   "execution_count": 237,
   "metadata": {},
   "outputs": [
    {
     "name": "stdout",
     "output_type": "stream",
     "text": [
      "Random Forest Regressor Test R^2: 0.8497740273767336\n",
      "Random Forest Regressor Training R^2: 0.9782933406056759\n",
      "Random Forest Regressor OOB R^2: 0.8388764281434651\n",
      "Random Forest Regressor Test MAE: 119829.76596143866\n",
      "Random Forest Regressor Training MAE: 43936.996394183625\n"
     ]
    }
   ],
   "source": [
    "brfr2 = RandomForestRegressor(\n",
    "        n_estimators=500,\n",
    "        oob_score=True,\n",
    "        random_state=1)\n",
    "\n",
    "brfr2.fit(X_train, y_train)\n",
    "\n",
    "print('Random Forest Regressor Test R^2:', brfr2.score(X_test, y_test))       \n",
    "print('Random Forest Regressor Training R^2:', brfr2.score(X_train, y_train))\n",
    "print('Random Forest Regressor OOB R^2:', brfr2.oob_score_)\n",
    "print('Random Forest Regressor Test MAE:', mean_absolute_error(y_test, brfr2.predict(X_test)))\n",
    "print('Random Forest Regressor Training MAE:', mean_absolute_error(y_train, brfr2.predict(X_train)))\n",
    "\n",
    "## This increased variance and the test MAE.  \n",
    "## I found this to be true when I tried a number of subsets of the feature columns with more and fewer columns included."
   ]
  },
  {
   "cell_type": "markdown",
   "metadata": {},
   "source": [
    "#### Conclusion"
   ]
  },
  {
   "cell_type": "markdown",
   "metadata": {},
   "source": [
    "I still have a variance issue in my data.  My instincts are telling me that the huge differential between the lowest and highest prices are causing outliers and edge cases that would take more experience to smooth out.  I also think the huge disparity in home values in the wealthiest and poorest neighborhoods are contributing to the overall variance.  Overall I got my best performance from a Bagged Decision Tree model, but it was only marginally better than the Random Forest model.  I only had about 6 months of 2018 data and I wonder if catching the bare leading edge of the downward trend in prices is affecting the predictions since the prior 15 years show an upward trend."
   ]
  },
  {
   "cell_type": "code",
   "execution_count": null,
   "metadata": {},
   "outputs": [],
   "source": []
  }
 ],
 "metadata": {
  "kernelspec": {
   "display_name": "Python 3",
   "language": "python",
   "name": "python3"
  },
  "language_info": {
   "codemirror_mode": {
    "name": "ipython",
    "version": 3
   },
   "file_extension": ".py",
   "mimetype": "text/x-python",
   "name": "python",
   "nbconvert_exporter": "python",
   "pygments_lexer": "ipython3",
   "version": "3.7.3"
  }
 },
 "nbformat": 4,
 "nbformat_minor": 2
}
